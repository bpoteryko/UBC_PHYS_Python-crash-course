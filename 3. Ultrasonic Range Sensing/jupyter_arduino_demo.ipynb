{
 "cells": [
  {
   "cell_type": "markdown",
   "metadata": {},
   "source": [
    "# Demo of Jupyer Notebook with Arduino\n",
    " "
   ]
  },
  {
   "cell_type": "code",
   "execution_count": 1,
   "metadata": {},
   "outputs": [
    {
     "ename": "SerialException",
     "evalue": "[Errno 2] could not open port /dev/tty.usbserial-1410: [Errno 2] No such file or directory: '/dev/tty.usbserial-1410'",
     "output_type": "error",
     "traceback": [
      "\u001b[0;31m---------------------------------------------------------------------------\u001b[0m",
      "\u001b[0;31mSerialException\u001b[0m                           Traceback (most recent call last)",
      "\u001b[0;32m<ipython-input-1-3800f2b0484b>\u001b[0m in \u001b[0;36m<module>\u001b[0;34m()\u001b[0m\n\u001b[1;32m     11\u001b[0m \u001b[0mportName\u001b[0m \u001b[0;34m=\u001b[0m \u001b[0;34m'/dev/tty.usbserial-1410'\u001b[0m  \u001b[0;31m# exmaple of Mac port name\u001b[0m\u001b[0;34m\u001b[0m\u001b[0m\n\u001b[1;32m     12\u001b[0m \u001b[0;34m\u001b[0m\u001b[0m\n\u001b[0;32m---> 13\u001b[0;31m \u001b[0mboard\u001b[0m \u001b[0;34m=\u001b[0m \u001b[0mArduino\u001b[0m\u001b[0;34m(\u001b[0m\u001b[0;34m'9600'\u001b[0m\u001b[0;34m,\u001b[0m \u001b[0mport\u001b[0m\u001b[0;34m=\u001b[0m\u001b[0mportName\u001b[0m\u001b[0;34m)\u001b[0m  \u001b[0;31m# find and connect microcontroller\u001b[0m\u001b[0;34m\u001b[0m\u001b[0m\n\u001b[0m\u001b[1;32m     14\u001b[0m \u001b[0;32mprint\u001b[0m\u001b[0;34m(\u001b[0m\u001b[0;34m'Connected'\u001b[0m\u001b[0;34m)\u001b[0m                      \u001b[0;31m# confirms the microcontroller has been found\u001b[0m\u001b[0;34m\u001b[0m\u001b[0m\n\u001b[1;32m     15\u001b[0m \u001b[0;34m\u001b[0m\u001b[0m\n",
      "\u001b[0;32m/anaconda3/envs/PHYS_TUT/lib/python2.7/site-packages/Arduino/arduino.pyc\u001b[0m in \u001b[0;36m__init__\u001b[0;34m(self, baud, port, timeout, sr)\u001b[0m\n\u001b[1;32m    106\u001b[0m                     \u001b[0;32mraise\u001b[0m \u001b[0mValueError\u001b[0m\u001b[0;34m(\u001b[0m\u001b[0;34m\"Could not find port.\"\u001b[0m\u001b[0;34m)\u001b[0m\u001b[0;34m\u001b[0m\u001b[0m\n\u001b[1;32m    107\u001b[0m             \u001b[0;32melse\u001b[0m\u001b[0;34m:\u001b[0m\u001b[0;34m\u001b[0m\u001b[0m\n\u001b[0;32m--> 108\u001b[0;31m                 \u001b[0msr\u001b[0m \u001b[0;34m=\u001b[0m \u001b[0mserial\u001b[0m\u001b[0;34m.\u001b[0m\u001b[0mSerial\u001b[0m\u001b[0;34m(\u001b[0m\u001b[0mport\u001b[0m\u001b[0;34m,\u001b[0m \u001b[0mbaud\u001b[0m\u001b[0;34m,\u001b[0m \u001b[0mtimeout\u001b[0m\u001b[0;34m=\u001b[0m\u001b[0mtimeout\u001b[0m\u001b[0;34m)\u001b[0m\u001b[0;34m\u001b[0m\u001b[0m\n\u001b[0m\u001b[1;32m    109\u001b[0m         \u001b[0msr\u001b[0m\u001b[0;34m.\u001b[0m\u001b[0mflush\u001b[0m\u001b[0;34m(\u001b[0m\u001b[0;34m)\u001b[0m\u001b[0;34m\u001b[0m\u001b[0m\n\u001b[1;32m    110\u001b[0m         \u001b[0mself\u001b[0m\u001b[0;34m.\u001b[0m\u001b[0msr\u001b[0m \u001b[0;34m=\u001b[0m \u001b[0msr\u001b[0m\u001b[0;34m\u001b[0m\u001b[0m\n",
      "\u001b[0;32m/anaconda3/envs/PHYS_TUT/lib/python2.7/site-packages/serial/serialutil.pyc\u001b[0m in \u001b[0;36m__init__\u001b[0;34m(self, port, baudrate, bytesize, parity, stopbits, timeout, xonxoff, rtscts, write_timeout, dsrdtr, inter_byte_timeout, exclusive, **kwargs)\u001b[0m\n\u001b[1;32m    238\u001b[0m \u001b[0;34m\u001b[0m\u001b[0m\n\u001b[1;32m    239\u001b[0m         \u001b[0;32mif\u001b[0m \u001b[0mport\u001b[0m \u001b[0;32mis\u001b[0m \u001b[0;32mnot\u001b[0m \u001b[0mNone\u001b[0m\u001b[0;34m:\u001b[0m\u001b[0;34m\u001b[0m\u001b[0m\n\u001b[0;32m--> 240\u001b[0;31m             \u001b[0mself\u001b[0m\u001b[0;34m.\u001b[0m\u001b[0mopen\u001b[0m\u001b[0;34m(\u001b[0m\u001b[0;34m)\u001b[0m\u001b[0;34m\u001b[0m\u001b[0m\n\u001b[0m\u001b[1;32m    241\u001b[0m \u001b[0;34m\u001b[0m\u001b[0m\n\u001b[1;32m    242\u001b[0m     \u001b[0;31m#  -  -  -  -  -  -  -  -  -  -  -  -  -  -  -  -  -  -  -  -  -  -  -  -\u001b[0m\u001b[0;34m\u001b[0m\u001b[0;34m\u001b[0m\u001b[0m\n",
      "\u001b[0;32m/anaconda3/envs/PHYS_TUT/lib/python2.7/site-packages/serial/serialposix.pyc\u001b[0m in \u001b[0;36mopen\u001b[0;34m(self)\u001b[0m\n\u001b[1;32m    266\u001b[0m         \u001b[0;32mexcept\u001b[0m \u001b[0mOSError\u001b[0m \u001b[0;32mas\u001b[0m \u001b[0mmsg\u001b[0m\u001b[0;34m:\u001b[0m\u001b[0;34m\u001b[0m\u001b[0m\n\u001b[1;32m    267\u001b[0m             \u001b[0mself\u001b[0m\u001b[0;34m.\u001b[0m\u001b[0mfd\u001b[0m \u001b[0;34m=\u001b[0m \u001b[0mNone\u001b[0m\u001b[0;34m\u001b[0m\u001b[0m\n\u001b[0;32m--> 268\u001b[0;31m             \u001b[0;32mraise\u001b[0m \u001b[0mSerialException\u001b[0m\u001b[0;34m(\u001b[0m\u001b[0mmsg\u001b[0m\u001b[0;34m.\u001b[0m\u001b[0merrno\u001b[0m\u001b[0;34m,\u001b[0m \u001b[0;34m\"could not open port {}: {}\"\u001b[0m\u001b[0;34m.\u001b[0m\u001b[0mformat\u001b[0m\u001b[0;34m(\u001b[0m\u001b[0mself\u001b[0m\u001b[0;34m.\u001b[0m\u001b[0m_port\u001b[0m\u001b[0;34m,\u001b[0m \u001b[0mmsg\u001b[0m\u001b[0;34m)\u001b[0m\u001b[0;34m)\u001b[0m\u001b[0;34m\u001b[0m\u001b[0m\n\u001b[0m\u001b[1;32m    269\u001b[0m         \u001b[0;31m#~ fcntl.fcntl(self.fd, fcntl.F_SETFL, 0)  # set blocking\u001b[0m\u001b[0;34m\u001b[0m\u001b[0;34m\u001b[0m\u001b[0m\n\u001b[1;32m    270\u001b[0m \u001b[0;34m\u001b[0m\u001b[0m\n",
      "\u001b[0;31mSerialException\u001b[0m: [Errno 2] could not open port /dev/tty.usbserial-1410: [Errno 2] No such file or directory: '/dev/tty.usbserial-1410'"
     ]
    }
   ],
   "source": [
    "'''\n",
    "Program to demonstrate how to flash the three colors of a RGB diode \n",
    "sequentially using the Arduino-Python serial library.\n",
    "'''\n",
    "\n",
    "# import libraries\n",
    "from Arduino import Arduino\n",
    "import time\n",
    "\n",
    "#portName = 'COM3'                    # example of Windows port name\n",
    "portName = '/dev/tty.usbserial-1410'  # exmaple of Mac port name, ls /dev/tty.*\n",
    "\n",
    "board = Arduino('9600', port=portName)  # find and connect microcontroller\n",
    "print('Connected')                      # confirms the microcontroller has been found\n",
    "\n",
    "# give pins names so they are easy to refference\n",
    "RED   = 3\n",
    "GREEN = 5\n",
    "BLUE  = 6\n",
    "\n",
    "# configure A0, A1 and A2 as output pins\n",
    "board.pinMode(RED, \"OUTPUT\")\n",
    "board.pinMode(GREEN, \"OUTPUT\")\n",
    "board.pinMode(BLUE, \"OUTPUT\")\n",
    "\n",
    "# turn all LEDs off\n",
    "board.analogWrite(RED, 0)  \n",
    "board.analogWrite(GREEN, 0) \n",
    "board.analogWrite(BLUE, 0)\n",
    "\n",
    "\n",
    "try:\n",
    "    while True:\n",
    "        board.analogWrite(RED, 255)     # set RED to full brightness (3.3V)\n",
    "        time.sleep(1)                   # wait 1 second\n",
    "        \n",
    "        board.analogWrite(RED, 0)       # turn RED off\n",
    "        board.analogWrite(GREEN, 255)   # set GREEN to full brightness (3.3V)\n",
    "        time.sleep(1)                   # wait 1 second\n",
    "        \n",
    "        board.analogWrite(GREEN, 0)     # turn RED off\n",
    "        board.analogWrite(BLUE, 255)    # set GREEN to full brightness (3.3V)\n",
    "        time.sleep(1)                   # wait 1 second\n",
    "        \n",
    "        board.analogWrite(BLUE, 0)      # turn GREEN off\n",
    "        \n",
    "        print(\"apple\")\n",
    "# press ctrl+c while the console is active to terminate program\n",
    "except KeyboardInterrupt:\n",
    "    pass"
   ]
  },
  {
   "cell_type": "code",
   "execution_count": 14,
   "metadata": {},
   "outputs": [
    {
     "name": "stdout",
     "output_type": "stream",
     "text": [
      "Connected\n"
     ]
    }
   ],
   "source": [
    "from Arduino import Arduino\n",
    "import time\n",
    "import csv\n",
    "\n",
    "board = Arduino('9600', port=portName)\n",
    "print('Connected')\n",
    "\n",
    "try:\n",
    "    while True:\n",
    "        pulseTime = board.pulseIn_set(12, 'HIGH')\n",
    "\n",
    "        # open a csv file and write time and pulseTime to it\n",
    "        with open(\"test_data_new.csv\",\"a\") as f:\n",
    "            writer = csv.writer(f,delimiter=\",\")\n",
    "            writer.writerow([time.time(), pulseTime])\n",
    "\n",
    "        time.sleep(0.1)\n",
    "    \n",
    "except KeyboardInterrupt:\n",
    "    pass"
   ]
  },
  {
   "cell_type": "code",
   "execution_count": null,
   "metadata": {},
   "outputs": [],
   "source": []
  }
 ],
 "metadata": {
  "kernelspec": {
   "display_name": "Python 2",
   "language": "python",
   "name": "python2"
  },
  "language_info": {
   "codemirror_mode": {
    "name": "ipython",
    "version": 2
   },
   "file_extension": ".py",
   "mimetype": "text/x-python",
   "name": "python",
   "nbconvert_exporter": "python",
   "pygments_lexer": "ipython2",
   "version": "2.7.15"
  }
 },
 "nbformat": 4,
 "nbformat_minor": 2
}
