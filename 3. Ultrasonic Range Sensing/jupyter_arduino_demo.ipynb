{
 "cells": [
  {
   "cell_type": "markdown",
   "metadata": {},
   "source": [
    "# Demo of Jupyer Notebook with Arduino\n",
    " "
   ]
  },
  {
   "cell_type": "code",
   "execution_count": 2,
   "metadata": {},
   "outputs": [
    {
     "name": "stdout",
     "output_type": "stream",
     "text": [
      "Connected\n",
      "red\n",
      "green\n",
      "blue\n",
      "red\n",
      "green\n",
      "blue\n",
      "red\n",
      "green\n",
      "blue\n",
      "red\n",
      "green\n",
      "blue\n",
      "red\n",
      "green\n",
      "blue\n",
      "red\n",
      "green\n",
      "blue\n",
      "red\n",
      "green\n",
      "blue\n",
      "red\n",
      "green\n",
      "blue\n"
     ]
    }
   ],
   "source": [
    "'''\n",
    "Program to demonstrate how to flash the three colors of a RGB diode \n",
    "sequentially using the Arduino-Python serial library.\n",
    "'''\n",
    "\n",
    "# import libraries\n",
    "from Arduino import Arduino\n",
    "import time\n",
    "\n",
    "#portName = 'COM3'                    # example of Windows port name\n",
    "portName = '/dev/tty.usbserial-1430'  # exmaple of Mac port name, ls /dev/tty.*\n",
    "\n",
    "board = Arduino('9600', port=portName)  # find and connect microcontroller\n",
    "print('Connected')                      # confirms the microcontroller has been found\n",
    "\n",
    "# give pins names so they are easy to refference\n",
    "RED   = 3\n",
    "GREEN = 5\n",
    "BLUE  = 6\n",
    "\n",
    "# configure A0, A1 and A2 as output pins\n",
    "board.pinMode(RED, \"OUTPUT\")\n",
    "board.pinMode(GREEN, \"OUTPUT\")\n",
    "board.pinMode(BLUE, \"OUTPUT\")\n",
    "\n",
    "# turn all LEDs off\n",
    "board.analogWrite(RED, 0)  \n",
    "board.analogWrite(GREEN, 0) \n",
    "board.analogWrite(BLUE, 0)\n",
    "\n",
    "\n",
    "try:\n",
    "    while True:\n",
    "        print(\"red\")\n",
    "        board.analogWrite(RED, 255)     # set RED to full brightness (3.3V)\n",
    "        time.sleep(1)                   # wait 1 second\n",
    "\n",
    "        print(\"green\")\n",
    "        board.analogWrite(RED, 0)       # turn RED off\n",
    "        board.analogWrite(GREEN, 255)   # set GREEN to full brightness (3.3V)\n",
    "        time.sleep(1)                   # wait 1 second\n",
    "        \n",
    "        print(\"blue\")\n",
    "        board.analogWrite(GREEN, 0)     # turn RED off\n",
    "        board.analogWrite(BLUE, 255)    # set GREEN to full brightness (3.3V)\n",
    "        time.sleep(1)                   # wait 1 second\n",
    "        \n",
    "        board.analogWrite(BLUE, 0)      # turn GREEN off\n",
    "        \n",
    "# press ctrl+c while the console is active to terminate program\n",
    "except KeyboardInterrupt:\n",
    "    pass"
   ]
  },
  {
   "cell_type": "code",
   "execution_count": 3,
   "metadata": {},
   "outputs": [
    {
     "name": "stdout",
     "output_type": "stream",
     "text": [
      "Connected\n"
     ]
    }
   ],
   "source": [
    "from Arduino import Arduino\n",
    "import time\n",
    "import csv\n",
    "\n",
    "board = Arduino('9600', port=portName)\n",
    "print('Connected')\n",
    "\n",
    "try:\n",
    "    while True:\n",
    "        pulseTime = board.pulseIn_set(12, 'HIGH')\n",
    "        \n",
    "        # open a csv file and write time and pulseTime to it\n",
    "        with open(\"test_data_new.csv\",\"a\") as f:\n",
    "            writer = csv.writer(f,delimiter=\",\")\n",
    "            writer.writerow([time.time(), pulseTime])\n",
    "\n",
    "        time.sleep(0.1)\n",
    "    \n",
    "except KeyboardInterrupt:\n",
    "    pass"
   ]
  },
  {
   "cell_type": "code",
   "execution_count": null,
   "metadata": {},
   "outputs": [],
   "source": []
  }
 ],
 "metadata": {
  "kernelspec": {
   "display_name": "Python 2",
   "language": "python",
   "name": "python2"
  },
  "language_info": {
   "codemirror_mode": {
    "name": "ipython",
    "version": 2
   },
   "file_extension": ".py",
   "mimetype": "text/x-python",
   "name": "python",
   "nbconvert_exporter": "python",
   "pygments_lexer": "ipython2",
   "version": "2.7.15"
  }
 },
 "nbformat": 4,
 "nbformat_minor": 2
}
